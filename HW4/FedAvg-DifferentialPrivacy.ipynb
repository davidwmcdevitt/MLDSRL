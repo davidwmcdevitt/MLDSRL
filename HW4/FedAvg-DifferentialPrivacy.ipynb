{
 "cells": [
  {
   "cell_type": "code",
   "execution_count": 1,
   "id": "60b62fc1-76ef-44e1-91e7-752b7a2d60a8",
   "metadata": {},
   "outputs": [
    {
     "name": "stderr",
     "output_type": "stream",
     "text": [
      "/nfs/home/dwm7542/.conda/envs/mldsrl/lib/python3.8/site-packages/tqdm/auto.py:21: TqdmWarning: IProgress not found. Please update jupyter and ipywidgets. See https://ipywidgets.readthedocs.io/en/stable/user_install.html\n",
      "  from .autonotebook import tqdm as notebook_tqdm\n",
      "2023-11-27 15:43:30,569\tINFO util.py:159 -- Missing packages: ['ipywidgets']. Run `pip install -U ipywidgets`, then restart the notebook server for rich notebook output.\n"
     ]
    }
   ],
   "source": [
    "import numpy as np\n",
    "import ray\n",
    "import torch\n",
    "from torch import nn, optim\n",
    "from torchvision import datasets, transforms\n",
    "from torch.utils.data import DataLoader, random_split, TensorDataset\n",
    "import matplotlib.pyplot as plt\n",
    "import random\n",
    "from sklearn.model_selection import train_test_split"
   ]
  },
  {
   "cell_type": "code",
   "execution_count": 2,
   "id": "98b0d148-46c2-44f1-8de7-8143fcf5dfd1",
   "metadata": {},
   "outputs": [],
   "source": [
    "train_set = np.load('Assignment3-data/train_data.npy', allow_pickle=True)\n",
    "test_set = np.load('Assignment3-data/test_data.npy', allow_pickle=True)"
   ]
  },
  {
   "cell_type": "code",
   "execution_count": 3,
   "id": "2d5cd98f-a86c-4bff-b3d5-63e771e4bed2",
   "metadata": {},
   "outputs": [],
   "source": [
    "num_clients = 100\n",
    "train_labels = []\n",
    "\n",
    "for i in range(num_clients):\n",
    "    for g in range(len(train_set[i]['labels'])):\n",
    "        train_labels.append(train_set[i]['labels'][g])"
   ]
  },
  {
   "cell_type": "code",
   "execution_count": 4,
   "id": "45840054-8ec9-4c6f-ac8c-49287361cc91",
   "metadata": {},
   "outputs": [],
   "source": [
    "class NeuralNet(nn.Module):\n",
    "    def __init__(self, input_size, num_classes):\n",
    "        super(NeuralNet, self).__init__()\n",
    "        self.fc1 = nn.Linear(input_size, 128)\n",
    "        self.fc2 = nn.Linear(128, num_classes)\n",
    "        \n",
    "    def forward(self, x):\n",
    "        x = torch.relu(self.fc1(x))\n",
    "        x = self.fc2(x)\n",
    "        return x"
   ]
  },
  {
   "cell_type": "code",
   "execution_count": 5,
   "id": "ba9ff3db-e80b-45ea-ab6c-115b12ec6f77",
   "metadata": {},
   "outputs": [],
   "source": [
    "def split_data(client):\n",
    "    train_data, val_data, train_labels, val_labels = train_test_split(client['images'], client['labels'], test_size=0.2)\n",
    "    return train_data, val_data, train_labels, val_labels"
   ]
  },
  {
   "cell_type": "code",
   "execution_count": 6,
   "id": "22e444cc-abe7-4255-8439-0a2d7709b683",
   "metadata": {},
   "outputs": [],
   "source": [
    "def differential_privacy(client, beta):\n",
    "    \n",
    "    for idx, image in enumerate(client['images']):\n",
    "        noise = np.random.laplace(scale=beta, size=image.shape)\n",
    "        type(client['images'][idx])\n",
    "        client['images'][idx] = image + noise\n",
    "        type(client['images'][idx])\n",
    "        \n",
    "        \n",
    "    return client"
   ]
  },
  {
   "cell_type": "code",
   "execution_count": 7,
   "id": "3038ef43-da2c-4b24-b96c-741bacccd008",
   "metadata": {},
   "outputs": [],
   "source": [
    "class Client:\n",
    "    def __init__(self, client_data):\n",
    "        \n",
    "        self.B = 0.065\n",
    "        \n",
    "        self.client_data = differential_privacy(client_data, self.B)\n",
    "        self.train_images, self.val_images, self.train_labels, self.val_labels = split_data(self.client_data)\n",
    "        \n",
    "        self.train_images = torch.tensor(np.array(self.train_images)).view(-1, 28*28).to(torch.float32)\n",
    "        self.val_images = torch.tensor(np.array(self.val_images)).view(-1, 28*28).to(torch.float32)\n",
    "        self.train_labels = torch.tensor(np.array(self.train_labels)).to(torch.float32)\n",
    "        self.val_labels = torch.tensor(np.array(self.val_labels)).to(torch.float32)\n",
    "        \n",
    "        self.model = NeuralNet(28*28, 62)\n",
    "        \n",
    "        self.learning_rate = 1e-4\n",
    "        \n",
    "        self.criterion = nn.CrossEntropyLoss()\n",
    "        self.optimizer = torch.optim.Adam(self.model.parameters(), lr=self.learning_rate)\n",
    "        \n",
    "        self.train_dataset = TensorDataset(self.train_images, torch.Tensor(self.train_labels).long())\n",
    "        self.val_dataset = TensorDataset(self.val_images, torch.Tensor(self.val_labels).long())\n",
    "        \n",
    "        self.train_loader = DataLoader(self.train_dataset, batch_size=16, shuffle=True)\n",
    "        self.val_loader = DataLoader(self.val_dataset, batch_size=16, shuffle=True)\n",
    "        \n",
    "        self.E = 25\n",
    "\n",
    "    def train(self, global_weights):\n",
    "        \n",
    "        self.model.load_state_dict(global_weights)\n",
    "        \n",
    "        self.model.train()\n",
    "        \n",
    "        for epoch in range(self.E):\n",
    "            for images, labels in self.train_loader:\n",
    "                outputs = self.model(images)\n",
    "                loss = self.criterion(outputs, labels)\n",
    "                self.optimizer.zero_grad()\n",
    "                loss.backward()\n",
    "                self.optimizer.step()\n",
    "        return self.model.state_dict(), len(self.train_loader.dataset)\n",
    "\n",
    "    def evaluate(self):\n",
    "        \n",
    "        self.model.eval()\n",
    "        \n",
    "        correct = 0\n",
    "        total = 0\n",
    "        with torch.no_grad():\n",
    "            for images, labels in self.val_loader:\n",
    "                outputs = self.model(images)\n",
    "                _, predicted = torch.max(outputs.data, 1)\n",
    "                total += labels.size(0)\n",
    "                correct += (predicted == labels).sum().item()\n",
    "                \n",
    "        accuracy = correct / total\n",
    "        return [accuracy, total]\n",
    "    \n",
    "    def receive_global_weights(self, global_weights):\n",
    "        pass\n"
   ]
  },
  {
   "cell_type": "code",
   "execution_count": 8,
   "id": "c174ef77-609e-40ad-a5c0-77f3f4d7e079",
   "metadata": {},
   "outputs": [],
   "source": [
    "class Server:\n",
    "    \n",
    "    def __init__(self):\n",
    "        \n",
    "        self.global_model = NeuralNet(28*28, 62)\n",
    "        self.C = 0.1\n",
    "        \n",
    "        self.num_clients = 100\n",
    "        \n",
    "        self.client_weight_bank = []\n",
    "        \n",
    "        self.training_round = 0\n",
    "        \n",
    "    def sample_clients(self):\n",
    "        return [random.randint(0, self.num_clients-1) for _ in range(int(self.num_clients * self.C))]\n",
    "        \n",
    "    def receive_client_weights(self, client_weights):\n",
    "        self.client_weight_bank.append(client_weights)\n",
    "        \n",
    "    def get_global_weights(self):\n",
    "        return self.global_model.state_dict()\n",
    "\n",
    "    def weighted_average(self, client_results):\n",
    "        self.total_weight = 0\n",
    "        self.weighted_sum = 0\n",
    "\n",
    "        for (metric_value, num_samples) in client_results:\n",
    "            self.total_weight += num_samples\n",
    "            self.weighted_sum += metric_value * num_samples\n",
    "\n",
    "        if self.total_weight == 0:\n",
    "            return \n",
    "\n",
    "        self.aggregated_value = self.weighted_sum / self.total_weight\n",
    "        return self.aggregated_value\n",
    "    \n",
    "    def fedAvg(self, client_weights):\n",
    "        \n",
    "        self.total_obs = sum(obs for _, obs in client_weights)\n",
    "        if self.total_obs == 0:\n",
    "            return\n",
    "        \n",
    "        self.federatedAvg = None\n",
    "        for model_weights, obs in client_weights:\n",
    "            weight_factor = obs / self.total_obs\n",
    "            if self.federatedAvg is None:\n",
    "                self.federatedAvg = {k: v * weight_factor for k, v in model_weights.items()}\n",
    "            else:\n",
    "                for k in self.federatedAvg:\n",
    "                    self.federatedAvg[k] += model_weights[k] * weight_factor\n",
    "\n",
    "        return self.federatedAvg\n",
    "    \n",
    "    def test(self, test_set):\n",
    "        \n",
    "        self.test_images = torch.tensor(np.array(test_set[0]['images'])).view(-1, 28*28)\n",
    "        self.test_labels = torch.tensor(np.array(test_set[0]['labels']))\n",
    "        \n",
    "        self.test_dataset = TensorDataset(self.test_images, torch.Tensor(self.test_labels).long())\n",
    "        \n",
    "        self.test_loader = DataLoader(self.test_dataset, batch_size=16, shuffle=True)\n",
    "        \n",
    "        self.global_model.eval()\n",
    "        \n",
    "        correct = 0\n",
    "        total = 0\n",
    "        with torch.no_grad():\n",
    "            for images, labels in self.test_loader:\n",
    "                outputs = self.global_model(images)\n",
    "                _, predicted = torch.max(outputs.data, 1)\n",
    "                total += labels.size(0)\n",
    "                correct += (predicted == labels).sum().item()\n",
    "                \n",
    "        accuracy = correct / total\n",
    "        print(f\"Test Accuracy: {accuracy}\")\n",
    "        return accuracy\n",
    "        \n",
    "        \n",
    "        \n",
    "        "
   ]
  },
  {
   "cell_type": "code",
   "execution_count": 9,
   "id": "a894ff75-66fa-4575-af54-e438c92f960e",
   "metadata": {},
   "outputs": [
    {
     "name": "stdout",
     "output_type": "stream",
     "text": [
      "Communication Round 0: 0.09523809523809523\n",
      "Communication Round 1: 0.08990536277602523\n",
      "Communication Round 2: 0.11232449297971919\n",
      "Communication Round 3: 0.16815476190476192\n",
      "Communication Round 4: 0.16530278232405893\n",
      "Communication Round 5: 0.18739903069466882\n",
      "Communication Round 6: 0.19629057187017002\n",
      "Communication Round 7: 0.33434190620272314\n",
      "Communication Round 8: 0.3316412859560068\n",
      "Communication Round 9: 0.38880706921944036\n",
      "Test Accuracy: 0.5017636684303352\n"
     ]
    },
    {
     "data": {
      "text/plain": [
       "0.5017636684303352"
      ]
     },
     "execution_count": 9,
     "metadata": {},
     "output_type": "execute_result"
    }
   ],
   "source": [
    "num_rounds = 10\n",
    "\n",
    "server = Server()\n",
    "\n",
    "weighted_averages = []\n",
    "\n",
    "for round_id in range(num_rounds):\n",
    "    \n",
    "    sample = server.sample_clients()\n",
    "    \n",
    "    client_weights = []\n",
    "    client_results = []\n",
    "    \n",
    "    for client_id in sample:\n",
    "        client = Client(train_set[client_id])\n",
    "\n",
    "        client_weights.append(client.train(server.get_global_weights()))\n",
    "        client_results.append(client.evaluate())\n",
    "        \n",
    "    weighted_averages.append(server.weighted_average(client_results))\n",
    "    \n",
    "    print(f\"Communication Round {round_id}: {weighted_averages[-1]}\")\n",
    "    \n",
    "    weighted_avg_weights = server.fedAvg(client_weights)\n",
    "    \n",
    "    server.global_model.load_state_dict(weighted_avg_weights)\n",
    "    \n",
    "server.test(test_set)"
   ]
  },
  {
   "cell_type": "code",
   "execution_count": 10,
   "id": "a10d42d9-51a5-4f32-a5f1-e3dd6b06615d",
   "metadata": {},
   "outputs": [
    {
     "data": {
      "image/png": "[encoded data removed]",
      "text/plain": [
       "<Figure size 1000x600 with 1 Axes>"
      ]
     },
     "metadata": {},
     "output_type": "display_data"
    }
   ],
   "source": [
    "plt.figure(figsize=(10, 6))\n",
    "plt.plot(weighted_averages, marker='o')\n",
    "\n",
    "plt.title(f'Weighted Validation Accuracies Over Time: C = {server.C}, E = {client.E}, B = {client.B}')\n",
    "plt.xlabel('Communication Rounds')\n",
    "plt.ylabel('Accuracy')\n",
    "\n",
    "plt.savefig('results/fedavg_acc.png', dpi=300, format='png', bbox_inches='tight')\n",
    "\n",
    "plt.show()"
   ]
  },
  {
   "cell_type": "code",
   "execution_count": 22,
   "id": "17af65d8-1c67-44f6-9a1c-86fb184acaf7",
   "metadata": {},
   "outputs": [
    {
     "data": {
      "text/plain": [
       "<matplotlib.image.AxesImage at 0x7fc76aecb9a0>"
      ]
     },
     "execution_count": 22,
     "metadata": {},
     "output_type": "execute_result"
    },
    {
     "data": {
      "image/png": "[encoded data removed]",
      "text/plain": [
       "<Figure size 640x480 with 1 Axes>"
      ]
     },
     "metadata": {},
     "output_type": "display_data"
    }
   ],
   "source": [
    "pic = train_set[54]['images'][12]\n",
    "noise = np.random.laplace(scale=0.2, size=pic.shape)\n",
    "plt.imshow(pic + noise, 'gray')"
   ]
  }
 ],
 "metadata": {
  "kernelspec": {
   "display_name": "mldsrl",
   "language": "python",
   "name": "mldsrl"
  },
  "language_info": {
   "codemirror_mode": {
    "name": "ipython",
    "version": 3
   },
   "file_extension": ".py",
   "mimetype": "text/x-python",
   "name": "python",
   "nbconvert_exporter": "python",
   "pygments_lexer": "ipython3",
   "version": "3.8.18"
  }
 },
 "nbformat": 4,
 "nbformat_minor": 5
}
