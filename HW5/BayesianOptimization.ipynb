{
  "nbformat": 4,
  "nbformat_minor": 0,
  "metadata": {
    "colab": {
      "provenance": []
    },
    "kernelspec": {
      "name": "python3",
      "display_name": "Python 3"
    },
    "language_info": {
      "name": "python"
    }
  },
  "cells": [
    {
      "cell_type": "code",
      "execution_count": 1,
      "metadata": {
        "colab": {
          "base_uri": "https://localhost:8080/"
        },
        "id": "5Kdnf8yCBIIT",
        "outputId": "275b22d0-fae3-4f19-b920-23c0148dfef1"
      },
      "outputs": [
        {
          "output_type": "stream",
          "name": "stdout",
          "text": [
            "Requirement already satisfied: bayesian-optimization in /usr/local/lib/python3.10/dist-packages (1.4.3)\n",
            "Requirement already satisfied: numpy>=1.9.0 in /usr/local/lib/python3.10/dist-packages (from bayesian-optimization) (1.23.5)\n",
            "Requirement already satisfied: scipy>=1.0.0 in /usr/local/lib/python3.10/dist-packages (from bayesian-optimization) (1.11.4)\n",
            "Requirement already satisfied: scikit-learn>=0.18.0 in /usr/local/lib/python3.10/dist-packages (from bayesian-optimization) (1.2.2)\n",
            "Requirement already satisfied: colorama>=0.4.6 in /usr/local/lib/python3.10/dist-packages (from bayesian-optimization) (0.4.6)\n",
            "Requirement already satisfied: joblib>=1.1.1 in /usr/local/lib/python3.10/dist-packages (from scikit-learn>=0.18.0->bayesian-optimization) (1.3.2)\n",
            "Requirement already satisfied: threadpoolctl>=2.0.0 in /usr/local/lib/python3.10/dist-packages (from scikit-learn>=0.18.0->bayesian-optimization) (3.2.0)\n"
          ]
        }
      ],
      "source": [
        "!pip install bayesian-optimization"
      ]
    },
    {
      "cell_type": "code",
      "source": [
        "#!unzip -o '/content/Assignment4data.zip'"
      ],
      "metadata": {
        "colab": {
          "base_uri": "https://localhost:8080/"
        },
        "id": "0NWwLXz2BVFP",
        "outputId": "ec67ed3c-d347-4fe3-a3e9-e820beca40af"
      },
      "execution_count": 2,
      "outputs": [
        {
          "output_type": "stream",
          "name": "stdout",
          "text": [
            "Archive:  /content/Assignment4data.zip\n",
            " extracting: Assignment4data/README.txt  \n",
            " extracting: Assignment4data/test_X.npy  \n",
            " extracting: Assignment4data/test_y.npy  \n",
            " extracting: Assignment4data/train_X.npy  \n",
            " extracting: Assignment4data/train_y.npy  \n"
          ]
        }
      ]
    },
    {
      "cell_type": "code",
      "source": [
        "import numpy as np\n",
        "import torch\n",
        "from torch import nn, optim\n",
        "from torchvision import datasets, transforms\n",
        "from torch.utils.data import DataLoader, random_split, TensorDataset\n",
        "import torch.nn.functional as F\n",
        "import matplotlib.pyplot as plt\n",
        "import random\n",
        "from sklearn.model_selection import train_test_split\n",
        "from sklearn.metrics import f1_score\n",
        "import copy\n",
        "from bayes_opt import BayesianOptimization\n",
        "from functools import partial"
      ],
      "metadata": {
        "id": "_bI5I1fVB7J7"
      },
      "execution_count": 3,
      "outputs": []
    },
    {
      "cell_type": "code",
      "source": [
        "X_train = np.load('Assignment4data/train_X.npy', allow_pickle=True)\n",
        "y_train = np.load('Assignment4data/train_y.npy', allow_pickle=True)\n",
        "X_test = np.load('Assignment4data/test_X.npy', allow_pickle=True)\n",
        "y_test = np.load('Assignment4data/test_y.npy', allow_pickle=True)\n",
        "\n",
        "X_train, X_val, y_train, y_val = train_test_split(X_train, y_train, test_size=0.2, random_state=42)\n",
        "\n",
        "X_train_tensor = torch.tensor(X_train, dtype=torch.float32).view(-1, 28*28)\n",
        "y_train_tensor = torch.tensor(y_train, dtype=torch.long)\n",
        "X_val_tensor = torch.tensor(X_val, dtype=torch.float32).view(-1, 28*28)\n",
        "y_val_tensor = torch.tensor(y_val, dtype=torch.long)\n",
        "X_test_tensor = torch.tensor(X_test, dtype=torch.float32).view(-1, 28*28)\n",
        "y_test_tensor = torch.tensor(y_test, dtype=torch.long)\n",
        "\n",
        "train_dataset = TensorDataset(X_train_tensor, y_train_tensor)\n",
        "val_dataset = TensorDataset(X_val_tensor, y_val_tensor)\n",
        "test_dataset = TensorDataset(X_val_tensor, y_val_tensor)\n"
      ],
      "metadata": {
        "id": "2oipIeucB4JS"
      },
      "execution_count": 4,
      "outputs": []
    },
    {
      "cell_type": "code",
      "source": [
        "class NeuralNet(nn.Module):\n",
        "    def __init__(self, input_size, num_classes, activation=nn.ReLU()):\n",
        "        super(NeuralNet, self).__init__()\n",
        "\n",
        "        self.fc1 = nn.Linear(input_size, 128)\n",
        "        self.fc2 = nn.Linear(128, num_classes)\n",
        "        self.activation = activation\n",
        "\n",
        "    def forward(self, x):\n",
        "        x = self.activation(self.fc1(x))\n",
        "        x = self.fc2(x)\n",
        "        return x"
      ],
      "metadata": {
        "id": "wcj1JL1iDU7y"
      },
      "execution_count": 5,
      "outputs": []
    },
    {
      "cell_type": "code",
      "source": [
        "def evaluate_f1(model, val_dataset):\n",
        "    model.eval()\n",
        "    y_true = []\n",
        "    y_pred = []\n",
        "    for inputs, targets in val_dataset:\n",
        "        outputs = model(inputs)\n",
        "        predicted = torch.argmax(outputs)\n",
        "        y_true.append(targets.cpu().numpy())\n",
        "        y_pred.append(predicted.cpu().numpy())\n",
        "\n",
        "    f1 = f1_score(y_true, y_pred, average='macro')\n",
        "    return f1"
      ],
      "metadata": {
        "id": "05h-AJupGnRY"
      },
      "execution_count": 6,
      "outputs": []
    },
    {
      "cell_type": "code",
      "source": [
        "def objective_function(batch_size, activation_index, train_dataset):\n",
        "    activation_funcs = [nn.ReLU(), nn.Tanh(), nn.Sigmoid()]\n",
        "    activation_func = activation_funcs[int(activation_index)]\n",
        "\n",
        "    model = NeuralNet(28*28, 10, activation_func)\n",
        "    criterion = nn.CrossEntropyLoss()\n",
        "    optimizer = optim.Adam(model.parameters())\n",
        "\n",
        "    train_loader = DataLoader(dataset=train_dataset, batch_size=int(batch_size), shuffle=True)\n",
        "\n",
        "    for epoch in range(10):\n",
        "        for i, data in enumerate(train_loader, 0):\n",
        "            inputs, labels = data\n",
        "            optimizer.zero_grad()\n",
        "            outputs = model(inputs)\n",
        "            loss = criterion(outputs, labels)\n",
        "            loss.backward()\n",
        "            optimizer.step()\n",
        "\n",
        "    val_f1_score = evaluate_f1(model, val_dataset)\n",
        "    return val_f1_score"
      ],
      "metadata": {
        "id": "ekQVwOmkFjO_"
      },
      "execution_count": 7,
      "outputs": []
    },
    {
      "cell_type": "code",
      "source": [
        "optimizer = BayesianOptimization(\n",
        "    f=partial(objective_function, train_dataset=train_dataset),\n",
        "    pbounds={'batch_size': (16, 1024), 'activation_index': (0, 2)},\n",
        "    random_state=1,\n",
        ")"
      ],
      "metadata": {
        "id": "G92LgO0hGZe1"
      },
      "execution_count": 8,
      "outputs": []
    },
    {
      "cell_type": "code",
      "source": [
        "optimizer.maximize(init_points=2, n_iter=100)"
      ],
      "metadata": {
        "colab": {
          "base_uri": "https://localhost:8080/"
        },
        "id": "dWQqa2OBGbDn",
        "outputId": "58cb9cbd-fdd8-4572-ee34-853aa250acf5"
      },
      "execution_count": 9,
      "outputs": [
        {
          "output_type": "stream",
          "name": "stdout",
          "text": [
            "|   iter    |  target   | activa... | batch_... |\n",
            "-------------------------------------------------\n",
            "| \u001b[0m1        \u001b[0m | \u001b[0m0.6922   \u001b[0m | \u001b[0m0.834    \u001b[0m | \u001b[0m742.1    \u001b[0m |\n",
            "| \u001b[95m2        \u001b[0m | \u001b[95m0.7882   \u001b[0m | \u001b[95m0.0002287\u001b[0m | \u001b[95m320.8    \u001b[0m |\n",
            "| \u001b[95m3        \u001b[0m | \u001b[95m0.8092   \u001b[0m | \u001b[95m0.0879   \u001b[0m | \u001b[95m322.1    \u001b[0m |\n",
            "| \u001b[0m4        \u001b[0m | \u001b[0m0.7877   \u001b[0m | \u001b[0m0.4744   \u001b[0m | \u001b[0m327.3    \u001b[0m |\n",
            "| \u001b[0m5        \u001b[0m | \u001b[0m0.7937   \u001b[0m | \u001b[0m0.3479   \u001b[0m | \u001b[0m339.9    \u001b[0m |\n",
            "| \u001b[0m6        \u001b[0m | \u001b[0m0.7528   \u001b[0m | \u001b[0m1.482    \u001b[0m | \u001b[0m345.9    \u001b[0m |\n",
            "| \u001b[0m7        \u001b[0m | \u001b[0m0.7996   \u001b[0m | \u001b[0m0.3018   \u001b[0m | \u001b[0m334.7    \u001b[0m |\n",
            "| \u001b[95m8        \u001b[0m | \u001b[95m0.8184   \u001b[0m | \u001b[95m1.775    \u001b[0m | \u001b[95m466.8    \u001b[0m |\n",
            "| \u001b[0m9        \u001b[0m | \u001b[0m0.7938   \u001b[0m | \u001b[0m1.523    \u001b[0m | \u001b[0m462.8    \u001b[0m |\n",
            "| \u001b[0m10       \u001b[0m | \u001b[0m0.7511   \u001b[0m | \u001b[0m0.3362   \u001b[0m | \u001b[0m470.8    \u001b[0m |\n",
            "| \u001b[0m11       \u001b[0m | \u001b[0m0.812    \u001b[0m | \u001b[0m1.963    \u001b[0m | \u001b[0m324.6    \u001b[0m |\n",
            "| \u001b[0m12       \u001b[0m | \u001b[0m0.7377   \u001b[0m | \u001b[0m0.1811   \u001b[0m | \u001b[0m602.1    \u001b[0m |\n",
            "| \u001b[0m13       \u001b[0m | \u001b[0m0.7963   \u001b[0m | \u001b[0m1.727    \u001b[0m | \u001b[0m452.3    \u001b[0m |\n",
            "| \u001b[0m14       \u001b[0m | \u001b[0m0.6872   \u001b[0m | \u001b[0m0.3305   \u001b[0m | \u001b[0m446.9    \u001b[0m |\n",
            "| \u001b[0m15       \u001b[0m | \u001b[0m0.813    \u001b[0m | \u001b[0m1.816    \u001b[0m | \u001b[0m456.7    \u001b[0m |\n",
            "| \u001b[95m16       \u001b[0m | \u001b[95m0.856    \u001b[0m | \u001b[95m1.084    \u001b[0m | \u001b[95m178.4    \u001b[0m |\n",
            "| \u001b[0m17       \u001b[0m | \u001b[0m0.8154   \u001b[0m | \u001b[0m0.6636   \u001b[0m | \u001b[0m175.0    \u001b[0m |\n",
            "| \u001b[0m18       \u001b[0m | \u001b[0m0.7455   \u001b[0m | \u001b[0m0.2709   \u001b[0m | \u001b[0m181.9    \u001b[0m |\n",
            "| \u001b[95m19       \u001b[0m | \u001b[95m0.8578   \u001b[0m | \u001b[95m1.868    \u001b[0m | \u001b[95m176.4    \u001b[0m |\n",
            "| \u001b[0m20       \u001b[0m | \u001b[0m0.7597   \u001b[0m | \u001b[0m0.04044  \u001b[0m | \u001b[0m177.3    \u001b[0m |\n",
            "| \u001b[0m21       \u001b[0m | \u001b[0m0.8117   \u001b[0m | \u001b[0m1.702    \u001b[0m | \u001b[0m177.6    \u001b[0m |\n",
            "| \u001b[95m22       \u001b[0m | \u001b[95m0.8672   \u001b[0m | \u001b[95m1.655    \u001b[0m | \u001b[95m175.7    \u001b[0m |\n",
            "| \u001b[0m23       \u001b[0m | \u001b[0m0.8415   \u001b[0m | \u001b[0m1.793    \u001b[0m | \u001b[0m179.2    \u001b[0m |\n",
            "| \u001b[0m24       \u001b[0m | \u001b[0m0.8133   \u001b[0m | \u001b[0m0.4835   \u001b[0m | \u001b[0m179.3    \u001b[0m |\n",
            "| \u001b[0m25       \u001b[0m | \u001b[0m0.8489   \u001b[0m | \u001b[0m1.909    \u001b[0m | \u001b[0m174.7    \u001b[0m |\n",
            "| \u001b[0m26       \u001b[0m | \u001b[0m0.8606   \u001b[0m | \u001b[0m1.805    \u001b[0m | \u001b[0m173.0    \u001b[0m |\n",
            "| \u001b[0m27       \u001b[0m | \u001b[0m0.8538   \u001b[0m | \u001b[0m1.054    \u001b[0m | \u001b[0m172.1    \u001b[0m |\n",
            "| \u001b[0m28       \u001b[0m | \u001b[0m0.8642   \u001b[0m | \u001b[0m1.942    \u001b[0m | \u001b[0m171.2    \u001b[0m |\n",
            "| \u001b[0m29       \u001b[0m | \u001b[0m0.733    \u001b[0m | \u001b[0m0.6182   \u001b[0m | \u001b[0m170.3    \u001b[0m |\n",
            "| \u001b[0m30       \u001b[0m | \u001b[0m0.6957   \u001b[0m | \u001b[0m0.2321   \u001b[0m | \u001b[0m173.2    \u001b[0m |\n",
            "| \u001b[0m31       \u001b[0m | \u001b[0m0.8274   \u001b[0m | \u001b[0m1.854    \u001b[0m | \u001b[0m172.3    \u001b[0m |\n",
            "| \u001b[0m32       \u001b[0m | \u001b[0m0.7923   \u001b[0m | \u001b[0m1.745    \u001b[0m | \u001b[0m173.9    \u001b[0m |\n",
            "| \u001b[0m33       \u001b[0m | \u001b[0m0.8316   \u001b[0m | \u001b[0m1.242    \u001b[0m | \u001b[0m176.3    \u001b[0m |\n",
            "| \u001b[0m34       \u001b[0m | \u001b[0m0.8496   \u001b[0m | \u001b[0m1.432    \u001b[0m | \u001b[0m171.4    \u001b[0m |\n",
            "| \u001b[0m35       \u001b[0m | \u001b[0m0.863    \u001b[0m | \u001b[0m1.956    \u001b[0m | \u001b[0m180.4    \u001b[0m |\n",
            "| \u001b[0m36       \u001b[0m | \u001b[0m0.8339   \u001b[0m | \u001b[0m1.328    \u001b[0m | \u001b[0m180.5    \u001b[0m |\n",
            "| \u001b[0m37       \u001b[0m | \u001b[0m0.8166   \u001b[0m | \u001b[0m1.974    \u001b[0m | \u001b[0m181.7    \u001b[0m |\n",
            "| \u001b[0m38       \u001b[0m | \u001b[0m0.5599   \u001b[0m | \u001b[0m0.7667   \u001b[0m | \u001b[0m465.5    \u001b[0m |\n",
            "| \u001b[0m39       \u001b[0m | \u001b[0m0.8242   \u001b[0m | \u001b[0m1.59     \u001b[0m | \u001b[0m468.7    \u001b[0m |\n",
            "| \u001b[0m40       \u001b[0m | \u001b[0m0.7658   \u001b[0m | \u001b[0m0.2483   \u001b[0m | \u001b[0m324.1    \u001b[0m |\n",
            "| \u001b[0m41       \u001b[0m | \u001b[0m0.7519   \u001b[0m | \u001b[0m0.2149   \u001b[0m | \u001b[0m457.5    \u001b[0m |\n",
            "| \u001b[0m42       \u001b[0m | \u001b[0m0.8148   \u001b[0m | \u001b[0m1.492    \u001b[0m | \u001b[0m454.9    \u001b[0m |\n",
            "| \u001b[0m43       \u001b[0m | \u001b[0m0.78     \u001b[0m | \u001b[0m0.03117  \u001b[0m | \u001b[0m454.1    \u001b[0m |\n",
            "| \u001b[0m44       \u001b[0m | \u001b[0m0.7591   \u001b[0m | \u001b[0m0.3085   \u001b[0m | \u001b[0m468.4    \u001b[0m |\n",
            "| \u001b[0m45       \u001b[0m | \u001b[0m0.829    \u001b[0m | \u001b[0m1.827    \u001b[0m | \u001b[0m322.3    \u001b[0m |\n",
            "| \u001b[0m46       \u001b[0m | \u001b[0m0.8021   \u001b[0m | \u001b[0m1.848    \u001b[0m | \u001b[0m321.0    \u001b[0m |\n",
            "| \u001b[0m47       \u001b[0m | \u001b[0m0.7815   \u001b[0m | \u001b[0m1.978    \u001b[0m | \u001b[0m467.8    \u001b[0m |\n",
            "| \u001b[0m48       \u001b[0m | \u001b[0m0.8008   \u001b[0m | \u001b[0m1.808    \u001b[0m | \u001b[0m469.6    \u001b[0m |\n",
            "| \u001b[0m49       \u001b[0m | \u001b[0m0.8232   \u001b[0m | \u001b[0m1.861    \u001b[0m | \u001b[0m333.1    \u001b[0m |\n",
            "| \u001b[0m50       \u001b[0m | \u001b[0m0.8112   \u001b[0m | \u001b[0m0.7588   \u001b[0m | \u001b[0m332.2    \u001b[0m |\n",
            "| \u001b[0m51       \u001b[0m | \u001b[0m0.8497   \u001b[0m | \u001b[0m1.982    \u001b[0m | \u001b[0m334.3    \u001b[0m |\n",
            "| \u001b[0m52       \u001b[0m | \u001b[0m0.8318   \u001b[0m | \u001b[0m1.955    \u001b[0m | \u001b[0m335.3    \u001b[0m |\n",
            "| \u001b[0m53       \u001b[0m | \u001b[0m0.7983   \u001b[0m | \u001b[0m2.0      \u001b[0m | \u001b[0m170.4    \u001b[0m |\n",
            "| \u001b[0m54       \u001b[0m | \u001b[0m0.8128   \u001b[0m | \u001b[0m1.495    \u001b[0m | \u001b[0m336.6    \u001b[0m |\n",
            "| \u001b[0m55       \u001b[0m | \u001b[0m0.8288   \u001b[0m | \u001b[0m1.083    \u001b[0m | \u001b[0m333.6    \u001b[0m |\n",
            "| \u001b[0m56       \u001b[0m | \u001b[0m0.822    \u001b[0m | \u001b[0m1.967    \u001b[0m | \u001b[0m331.0    \u001b[0m |\n",
            "| \u001b[0m57       \u001b[0m | \u001b[0m0.7548   \u001b[0m | \u001b[0m0.5542   \u001b[0m | \u001b[0m330.1    \u001b[0m |\n",
            "| \u001b[0m58       \u001b[0m | \u001b[0m0.8366   \u001b[0m | \u001b[0m1.942    \u001b[0m | \u001b[0m338.3    \u001b[0m |\n",
            "| \u001b[0m59       \u001b[0m | \u001b[0m0.7813   \u001b[0m | \u001b[0m0.5635   \u001b[0m | \u001b[0m337.7    \u001b[0m |\n",
            "| \u001b[0m60       \u001b[0m | \u001b[0m0.8078   \u001b[0m | \u001b[0m1.879    \u001b[0m | \u001b[0m339.5    \u001b[0m |\n",
            "| \u001b[0m61       \u001b[0m | \u001b[0m0.4434   \u001b[0m | \u001b[0m0.5144   \u001b[0m | \u001b[0m685.5    \u001b[0m |\n",
            "| \u001b[0m62       \u001b[0m | \u001b[0m0.6353   \u001b[0m | \u001b[0m0.9682   \u001b[0m | \u001b[0m773.7    \u001b[0m |\n",
            "| \u001b[0m63       \u001b[0m | \u001b[0m0.8131   \u001b[0m | \u001b[0m1.317    \u001b[0m | \u001b[0m510.2    \u001b[0m |\n",
            "| \u001b[0m64       \u001b[0m | \u001b[0m0.7252   \u001b[0m | \u001b[0m1.909    \u001b[0m | \u001b[0m508.0    \u001b[0m |\n",
            "| \u001b[0m65       \u001b[0m | \u001b[0m0.8035   \u001b[0m | \u001b[0m1.426    \u001b[0m | \u001b[0m512.2    \u001b[0m |\n",
            "| \u001b[0m66       \u001b[0m | \u001b[0m0.7054   \u001b[0m | \u001b[0m0.3517   \u001b[0m | \u001b[0m514.8    \u001b[0m |\n",
            "| \u001b[0m67       \u001b[0m | \u001b[0m0.6077   \u001b[0m | \u001b[0m0.9121   \u001b[0m | \u001b[0m887.1    \u001b[0m |\n",
            "| \u001b[0m68       \u001b[0m | \u001b[0m0.7203   \u001b[0m | \u001b[0m1.307    \u001b[0m | \u001b[0m916.2    \u001b[0m |\n",
            "| \u001b[0m69       \u001b[0m | \u001b[0m0.7899   \u001b[0m | \u001b[0m1.681    \u001b[0m | \u001b[0m460.7    \u001b[0m |\n",
            "| \u001b[0m70       \u001b[0m | \u001b[0m0.8496   \u001b[0m | \u001b[0m0.7701   \u001b[0m | \u001b[0m30.09    \u001b[0m |\n",
            "| \u001b[0m71       \u001b[0m | \u001b[0m0.8642   \u001b[0m | \u001b[0m1.419    \u001b[0m | \u001b[0m31.51    \u001b[0m |\n",
            "| \u001b[0m72       \u001b[0m | \u001b[0m0.8418   \u001b[0m | \u001b[0m0.05243  \u001b[0m | \u001b[0m31.52    \u001b[0m |\n",
            "| \u001b[0m73       \u001b[0m | \u001b[0m0.8528   \u001b[0m | \u001b[0m0.9721   \u001b[0m | \u001b[0m32.97    \u001b[0m |\n",
            "| \u001b[0m74       \u001b[0m | \u001b[0m0.8381   \u001b[0m | \u001b[0m1.894    \u001b[0m | \u001b[0m34.12    \u001b[0m |\n",
            "| \u001b[0m75       \u001b[0m | \u001b[0m0.6435   \u001b[0m | \u001b[0m0.03911  \u001b[0m | \u001b[0m34.51    \u001b[0m |\n",
            "| \u001b[0m76       \u001b[0m | \u001b[0m0.8645   \u001b[0m | \u001b[0m1.789    \u001b[0m | \u001b[0m28.79    \u001b[0m |\n",
            "| \u001b[0m77       \u001b[0m | \u001b[0m0.8455   \u001b[0m | \u001b[0m0.5716   \u001b[0m | \u001b[0m28.19    \u001b[0m |\n",
            "| \u001b[0m78       \u001b[0m | \u001b[0m0.8558   \u001b[0m | \u001b[0m1.733    \u001b[0m | \u001b[0m27.07    \u001b[0m |\n",
            "| \u001b[0m79       \u001b[0m | \u001b[0m0.8608   \u001b[0m | \u001b[0m1.955    \u001b[0m | \u001b[0m32.71    \u001b[0m |\n",
            "| \u001b[0m80       \u001b[0m | \u001b[0m0.8365   \u001b[0m | \u001b[0m0.07715  \u001b[0m | \u001b[0m26.24    \u001b[0m |\n",
            "| \u001b[95m81       \u001b[0m | \u001b[95m0.8731   \u001b[0m | \u001b[95m1.746    \u001b[0m | \u001b[95m25.06    \u001b[0m |\n",
            "| \u001b[0m82       \u001b[0m | \u001b[0m0.8428   \u001b[0m | \u001b[0m0.3581   \u001b[0m | \u001b[0m24.39    \u001b[0m |\n",
            "| \u001b[0m83       \u001b[0m | \u001b[0m0.8577   \u001b[0m | \u001b[0m1.444    \u001b[0m | \u001b[0m22.26    \u001b[0m |\n",
            "| \u001b[95m84       \u001b[0m | \u001b[95m0.8848   \u001b[0m | \u001b[95m1.843    \u001b[0m | \u001b[95m23.64    \u001b[0m |\n",
            "| \u001b[0m85       \u001b[0m | \u001b[0m0.6441   \u001b[0m | \u001b[0m0.01705  \u001b[0m | \u001b[0m22.54    \u001b[0m |\n",
            "| \u001b[0m86       \u001b[0m | \u001b[0m0.874    \u001b[0m | \u001b[0m1.731    \u001b[0m | \u001b[0m20.48    \u001b[0m |\n",
            "| \u001b[0m87       \u001b[0m | \u001b[0m0.8484   \u001b[0m | \u001b[0m1.659    \u001b[0m | \u001b[0m18.71    \u001b[0m |\n",
            "| \u001b[0m88       \u001b[0m | \u001b[0m0.8402   \u001b[0m | \u001b[0m0.2688   \u001b[0m | \u001b[0m19.48    \u001b[0m |\n",
            "| \u001b[0m89       \u001b[0m | \u001b[0m0.8446   \u001b[0m | \u001b[0m0.1711   \u001b[0m | \u001b[0m17.48    \u001b[0m |\n",
            "| \u001b[0m90       \u001b[0m | \u001b[0m0.8562   \u001b[0m | \u001b[0m1.806    \u001b[0m | \u001b[0m16.25    \u001b[0m |\n",
            "| \u001b[0m91       \u001b[0m | \u001b[0m0.7417   \u001b[0m | \u001b[0m1.389    \u001b[0m | \u001b[0m633.5    \u001b[0m |\n",
            "| \u001b[0m92       \u001b[0m | \u001b[0m0.8488   \u001b[0m | \u001b[0m1.996    \u001b[0m | \u001b[0m21.45    \u001b[0m |\n",
            "| \u001b[0m93       \u001b[0m | \u001b[0m0.4452   \u001b[0m | \u001b[0m0.3277   \u001b[0m | \u001b[0m16.31    \u001b[0m |\n",
            "| \u001b[0m94       \u001b[0m | \u001b[0m0.752    \u001b[0m | \u001b[0m0.7182   \u001b[0m | \u001b[0m18.34    \u001b[0m |\n",
            "| \u001b[0m95       \u001b[0m | \u001b[0m0.8751   \u001b[0m | \u001b[0m1.234    \u001b[0m | \u001b[0m25.87    \u001b[0m |\n",
            "| \u001b[0m96       \u001b[0m | \u001b[0m0.8525   \u001b[0m | \u001b[0m0.7227   \u001b[0m | \u001b[0m20.51    \u001b[0m |\n",
            "| \u001b[0m97       \u001b[0m | \u001b[0m0.8751   \u001b[0m | \u001b[0m1.982    \u001b[0m | \u001b[0m26.08    \u001b[0m |\n",
            "| \u001b[0m98       \u001b[0m | \u001b[0m0.855    \u001b[0m | \u001b[0m1.884    \u001b[0m | \u001b[0m30.0     \u001b[0m |\n",
            "| \u001b[0m99       \u001b[0m | \u001b[0m0.8282   \u001b[0m | \u001b[0m1.808    \u001b[0m | \u001b[0m19.58    \u001b[0m |\n",
            "| \u001b[0m100      \u001b[0m | \u001b[0m0.8366   \u001b[0m | \u001b[0m1.997    \u001b[0m | \u001b[0m17.13    \u001b[0m |\n",
            "| \u001b[0m101      \u001b[0m | \u001b[0m0.841    \u001b[0m | \u001b[0m1.245    \u001b[0m | \u001b[0m24.5     \u001b[0m |\n",
            "| \u001b[0m102      \u001b[0m | \u001b[0m0.8639   \u001b[0m | \u001b[0m1.891    \u001b[0m | \u001b[0m22.94    \u001b[0m |\n",
            "=================================================\n"
          ]
        }
      ]
    },
    {
      "cell_type": "code",
      "source": [
        "best_params = optimizer.max['params']"
      ],
      "metadata": {
        "id": "0-SgsuW4GcvJ"
      },
      "execution_count": 10,
      "outputs": []
    },
    {
      "cell_type": "code",
      "source": [
        "activation_funcs = [nn.ReLU(), nn.Tanh(), nn.Sigmoid()]\n",
        "print(f\"Activation: {activation_funcs[int(best_params['activation_index'])]}, Batch Size: {int(best_params['batch_size'])}\")"
      ],
      "metadata": {
        "colab": {
          "base_uri": "https://localhost:8080/"
        },
        "id": "oAVBVoNRJ0uL",
        "outputId": "be250420-9624-4b6b-a055-61ecd7825693"
      },
      "execution_count": 11,
      "outputs": [
        {
          "output_type": "stream",
          "name": "stdout",
          "text": [
            "Activation: Tanh(), Batch Size: 23\n"
          ]
        }
      ]
    },
    {
      "cell_type": "code",
      "source": [
        "model = NeuralNet(28*28, 10, activation_funcs[int(best_params['activation_index'])])\n",
        "criterion = nn.CrossEntropyLoss()\n",
        "optimizer = optim.Adam(model.parameters())\n",
        "\n",
        "train_loader = DataLoader(dataset=train_dataset, batch_size=int(best_params['batch_size']), shuffle=True)\n",
        "\n",
        "f1_log = []\n",
        "\n",
        "for epoch in range(50):\n",
        "    y_true = []\n",
        "    y_pred = []\n",
        "    for i, data in enumerate(train_loader, 0):\n",
        "        inputs, targets = data\n",
        "        optimizer.zero_grad()\n",
        "        outputs = model(inputs)\n",
        "        predicted = torch.argmax(outputs,1)\n",
        "        loss = criterion(outputs, targets)\n",
        "        loss.backward()\n",
        "        optimizer.step()\n",
        "        y_true.append(targets.cpu().numpy())\n",
        "        y_pred.append(predicted.cpu().numpy())\n",
        "\n",
        "    y_pred = [item for sublist in y_pred for item in sublist]\n",
        "    y_true = [item for sublist in y_true for item in sublist]\n",
        "    f1 = f1_score(y_true, y_pred, average='macro')\n",
        "    f1_log.append(f1)\n",
        "\n",
        "test_f1_score = evaluate_f1(model, test_dataset)\n",
        "print(f'Test F1 score: {test_f1_score}')"
      ],
      "metadata": {
        "colab": {
          "base_uri": "https://localhost:8080/"
        },
        "id": "5wmJysWoM6_t",
        "outputId": "b9982245-48c4-44dd-ceee-8eab732f1f22"
      },
      "execution_count": 12,
      "outputs": [
        {
          "output_type": "stream",
          "name": "stdout",
          "text": [
            "Test F1 score: 0.9205162785017554\n"
          ]
        }
      ]
    },
    {
      "cell_type": "code",
      "source": [
        "plt.figure(figsize=(10, 6))\n",
        "plt.plot(f1_log, marker='o')\n",
        "\n",
        "plt.title(f'Bayesian-Optimization F1 Log: Activation: {activation_funcs[int(best_params[\"activation_index\"])]}, Batch Size: {int(best_params[\"batch_size\"])}')\n",
        "plt.xlabel('Epoch')\n",
        "plt.ylabel('F1 Score')\n",
        "\n",
        "plt.savefig('genetic_f1_log.png', dpi=300, format='png', bbox_inches='tight')\n",
        "\n",
        "plt.show()"
      ],
      "metadata": {
        "colab": {
          "base_uri": "https://localhost:8080/",
          "height": 564
        },
        "id": "L2eZfhcqQB8R",
        "outputId": "e5f7153b-0ac1-4a6d-87bd-c2867459ea26"
      },
      "execution_count": 13,
      "outputs": [
        {
          "output_type": "display_data",
          "data": {
            "text/plain": [
              "<Figure size 1000x600 with 1 Axes>"
            ],
            "image/png": "[encoded data removed]"
          },
          "metadata": {}
        }
      ]
    }
  ]
}